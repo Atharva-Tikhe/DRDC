{
 "cells": [
  {
   "cell_type": "code",
   "execution_count": 54,
   "id": "1083d158",
   "metadata": {},
   "outputs": [],
   "source": [
    "import os\n",
    "import pandas as pd\n",
    "import numpy as np\n",
    "import tensorflow as tf\n",
    "from tensorflow import keras\n",
    "from tensorflow.keras.preprocessing.image import ImageDataGenerator\n",
    "from tensorflow.keras.models import Sequential\n",
    "from tensorflow.keras.layers import Flatten, Dense, Dropout\n",
    "\n",
    "# Define paths to the train, validation, and test data folders\n",
    "\n",
    "preprocess_dir = os.path.join(\"..\", \"DRDC_data\", \"preprocessed\")\n",
    "\n",
    "test_data_dir = os.path.join(preprocess_dir, \"test\")\n",
    "train_data_dir = os.path.join(preprocess_dir, \"train\")\n",
    "val_data_dir = os.path.join(preprocess_dir, \"validation\")\n",
    "\n",
    "\n",
    "#train_data_dir = 'C:/Users/aditi/Downloads/Project/DRDC_data/preprocessed/train_images'\n",
    "#validation_data_dir = 'C:/Users/aditi/Downloads/Project/DRDC_data/preprocessed/val_images'\n",
    "#test_data_dir = 'C:/Users/aditi/Downloads/Project/DRDC_data/preprocessed/test_images'\n",
    "\n",
    "\n",
    "# Load labels from the Excel sheets as described in previous responses.\n",
    "train_labels = pd.read_csv(os.path.join(preprocess_dir,'train_1.csv'))\n",
    "validation_labels = pd.read_csv(os.path.join(preprocess_dir,'valid.csv'))\n",
    "\n",
    "# Define a function to pr"
   ]
  },
  {
   "cell_type": "code",
   "execution_count": 55,
   "id": "7e78375f",
   "metadata": {},
   "outputs": [],
   "source": [
    "def preprocess_labels(labels):\n",
    "    labels['diagnosis'] = labels['diagnosis'].apply(lambda x: 1 if x > 0 else 0)\n",
    "    return labels\n",
    "\n",
    "# Preprocess train and validation labels\n",
    "train_labels = preprocess_labels(train_labels)\n",
    "validation_labels = preprocess_labels(validation_labels)"
   ]
  },
  {
   "cell_type": "code",
   "execution_count": 56,
   "id": "5ebe24ae",
   "metadata": {},
   "outputs": [
    {
     "name": "stdout",
     "output_type": "stream",
     "text": [
      "Found 366 images belonging to 2 classes.\n"
     ]
    }
   ],
   "source": [
    "# Create data generators for training, validation, and test data\n",
    "train_datagen = ImageDataGenerator(rescale=1./255)\n",
    "validation_datagen = ImageDataGenerator(rescale=1./255)\n",
    "test_datagen = ImageDataGenerator(rescale=1./255)\n",
    "\n",
    "batch_size = 32\n",
    "\n",
    "# train_generator = train_datagen.flow_from_directory(\n",
    "#     train_data_dir,\n",
    "#     target_size=(224, 224),\n",
    "#     batch_size=batch_size,\n",
    "#     class_mode='binary')\n",
    "\n",
    "validation_generator = validation_datagen.flow_from_directory(\n",
    "    val_data_dir,\n",
    "    target_size=(224, 224),\n",
    "    batch_size=batch_size,\n",
    "    class_mode='binary')"
   ]
  },
  {
   "cell_type": "code",
   "execution_count": 58,
   "id": "082fa268",
   "metadata": {},
   "outputs": [
    {
     "name": "stdout",
     "output_type": "stream",
     "text": [
      "Found 0 images belonging to 2 classes.\n"
     ]
    }
   ],
   "source": [
    "test_labels = pd.read_csv(os.path.join(preprocess_dir,'test.csv'))\n",
    "test_labels = preprocess_labels(test_labels)\n",
    "\n",
    "\n",
    "test_datagen = ImageDataGenerator(rescale=1./255)\n",
    "\n",
    "test_generator = test_datagen.flow_from_directory(\n",
    "    test_data_dir,\n",
    "    target_size=(224, 224),\n",
    "    batch_size=batch_size,\n",
    "    class_mode='binary')"
   ]
  },
  {
   "cell_type": "code",
   "execution_count": 62,
   "id": "02498b25",
   "metadata": {},
   "outputs": [
    {
     "data": {
      "text/html": [
       "<div>\n",
       "<style scoped>\n",
       "    .dataframe tbody tr th:only-of-type {\n",
       "        vertical-align: middle;\n",
       "    }\n",
       "\n",
       "    .dataframe tbody tr th {\n",
       "        vertical-align: top;\n",
       "    }\n",
       "\n",
       "    .dataframe thead th {\n",
       "        text-align: right;\n",
       "    }\n",
       "</style>\n",
       "<table border=\"1\" class=\"dataframe\">\n",
       "  <thead>\n",
       "    <tr style=\"text-align: right;\">\n",
       "      <th></th>\n",
       "      <th>id_code</th>\n",
       "      <th>diagnosis</th>\n",
       "    </tr>\n",
       "  </thead>\n",
       "  <tbody>\n",
       "    <tr>\n",
       "      <th>0</th>\n",
       "      <td>e4dcca36ceb4</td>\n",
       "      <td>0</td>\n",
       "    </tr>\n",
       "    <tr>\n",
       "      <th>1</th>\n",
       "      <td>e4e343eaae2a</td>\n",
       "      <td>1</td>\n",
       "    </tr>\n",
       "    <tr>\n",
       "      <th>2</th>\n",
       "      <td>e4f12411fd85</td>\n",
       "      <td>1</td>\n",
       "    </tr>\n",
       "    <tr>\n",
       "      <th>3</th>\n",
       "      <td>e50b0174690d</td>\n",
       "      <td>0</td>\n",
       "    </tr>\n",
       "    <tr>\n",
       "      <th>4</th>\n",
       "      <td>e5197d77ec68</td>\n",
       "      <td>0</td>\n",
       "    </tr>\n",
       "    <tr>\n",
       "      <th>...</th>\n",
       "      <td>...</td>\n",
       "      <td>...</td>\n",
       "    </tr>\n",
       "    <tr>\n",
       "      <th>361</th>\n",
       "      <td>ffa47f6a7bf4</td>\n",
       "      <td>1</td>\n",
       "    </tr>\n",
       "    <tr>\n",
       "      <th>362</th>\n",
       "      <td>ffc04fed30e6</td>\n",
       "      <td>0</td>\n",
       "    </tr>\n",
       "    <tr>\n",
       "      <th>363</th>\n",
       "      <td>ffcf7b45f213</td>\n",
       "      <td>1</td>\n",
       "    </tr>\n",
       "    <tr>\n",
       "      <th>364</th>\n",
       "      <td>ffd97f8cd5aa</td>\n",
       "      <td>0</td>\n",
       "    </tr>\n",
       "    <tr>\n",
       "      <th>365</th>\n",
       "      <td>ffec9a18a3ce</td>\n",
       "      <td>1</td>\n",
       "    </tr>\n",
       "  </tbody>\n",
       "</table>\n",
       "<p>366 rows × 2 columns</p>\n",
       "</div>"
      ],
      "text/plain": [
       "          id_code  diagnosis\n",
       "0    e4dcca36ceb4          0\n",
       "1    e4e343eaae2a          1\n",
       "2    e4f12411fd85          1\n",
       "3    e50b0174690d          0\n",
       "4    e5197d77ec68          0\n",
       "..            ...        ...\n",
       "361  ffa47f6a7bf4          1\n",
       "362  ffc04fed30e6          0\n",
       "363  ffcf7b45f213          1\n",
       "364  ffd97f8cd5aa          0\n",
       "365  ffec9a18a3ce          1\n",
       "\n",
       "[366 rows x 2 columns]"
      ]
     },
     "execution_count": 62,
     "metadata": {},
     "output_type": "execute_result"
    }
   ],
   "source": [
    "test_labels"
   ]
  }
 ],
 "metadata": {
  "kernelspec": {
   "display_name": "Python 3 (ipykernel)",
   "language": "python",
   "name": "python3"
  },
  "language_info": {
   "codemirror_mode": {
    "name": "ipython",
    "version": 3
   },
   "file_extension": ".py",
   "mimetype": "text/x-python",
   "name": "python",
   "nbconvert_exporter": "python",
   "pygments_lexer": "ipython3",
   "version": "3.10.8"
  }
 },
 "nbformat": 4,
 "nbformat_minor": 5
}
